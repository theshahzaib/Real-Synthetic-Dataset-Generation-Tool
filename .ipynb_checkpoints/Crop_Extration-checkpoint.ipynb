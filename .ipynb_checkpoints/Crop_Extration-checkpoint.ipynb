{
 "cells": [
  {
   "cell_type": "markdown",
   "id": "4fb08bf3",
   "metadata": {},
   "source": [
    "# Extract Contours"
   ]
  },
  {
   "cell_type": "code",
   "execution_count": 31,
   "id": "5fa051c5",
   "metadata": {},
   "outputs": [],
   "source": [
    "\n",
    "\n",
    "import cv2 \n",
    "import glob\n",
    "import os\n",
    "\n",
    "imgs = glob.glob(\"Dataset/rafale/*.png\")\n",
    "for images in imgs:\n",
    "    \n",
    "    image = cv2.imread(images)\n",
    "    bs_name = os.path.basename(images)\n",
    "    \n",
    "    height, width = image.shape[:-1]\n",
    "\n",
    "    gray_image = cv2.cvtColor(image, cv2.COLOR_BGR2GRAY)\n",
    "    thresh_image = cv2.threshold(gray_image, 0, 255, cv2.THRESH_BINARY_INV + cv2.THRESH_OTSU)[1]\n",
    "\n",
    "    contours = cv2.findContours(thresh_image, cv2.RETR_EXTERNAL, cv2.CHAIN_APPROX_SIMPLE)\n",
    "    contours = contours[0] if len(contours) == 2 else contours[1]\n",
    "\n",
    "    Empty_list = []\n",
    "    for i in contours:\n",
    "        x,y,w,h = cv2.boundingRect(i)\n",
    "        case = x,y,w,h\n",
    "        Empty_list.append(case)\n",
    "\n",
    "    xmin, ymin, w, h = max(Empty_list)\n",
    "    xmax = xmin + w\n",
    "    ymax = ymin + h\n",
    "\n",
    "    if (xmin  >= 0) and (ymin >= 0) and (xmax < width) and (ymax < height):\n",
    "        roi = image[ymin:ymax, xmin:xmax]\n",
    "        \n",
    "    #cv2.rectangle(img, (x, y), (x + w, y + h), (255,0,0), 4)\n",
    "\n",
    "    cv2.imwrite('Dataset/crop_images/'+bs_name, roi)"
   ]
  },
  {
   "cell_type": "markdown",
   "id": "95c74fdc",
   "metadata": {},
   "source": [
    "# pngs Conversions"
   ]
  },
  {
   "cell_type": "code",
   "execution_count": 34,
   "id": "bf5ebfec",
   "metadata": {},
   "outputs": [],
   "source": [
    "import cv2\n",
    "import numpy as np\n",
    "import glob\n",
    "import os\n",
    "\n",
    "list_images = glob.glob(\"Dataset/crop_images/*.png\")\n",
    "for i in list_images:\n",
    "    file_name = os.path.basename(i)\n",
    "    img = cv2.imread(i)\n",
    "    im = cv2.cvtColor(img, cv2.COLOR_BGR2BGRA)\n",
    "\n",
    "    new_im = im.copy()\n",
    "    new_im[np.where((im==[255,255,255,255]).all(axis=2))] = [255,255,255,0]\n",
    "\n",
    "    # write result to disk\n",
    "    cv2.imwrite('Dataset/png_converted/'+file_name, new_im)"
   ]
  },
  {
   "cell_type": "code",
   "execution_count": null,
   "id": "8787e524",
   "metadata": {},
   "outputs": [],
   "source": []
  }
 ],
 "metadata": {
  "kernelspec": {
   "display_name": "Python 3 (ipykernel)",
   "language": "python",
   "name": "python3"
  },
  "language_info": {
   "codemirror_mode": {
    "name": "ipython",
    "version": 3
   },
   "file_extension": ".py",
   "mimetype": "text/x-python",
   "name": "python",
   "nbconvert_exporter": "python",
   "pygments_lexer": "ipython3",
   "version": "3.9.13"
  }
 },
 "nbformat": 4,
 "nbformat_minor": 5
}
